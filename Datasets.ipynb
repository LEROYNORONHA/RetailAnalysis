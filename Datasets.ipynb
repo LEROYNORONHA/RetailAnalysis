{
  "nbformat": 4,
  "nbformat_minor": 0,
  "metadata": {
    "colab": {
      "provenance": [],
      "mount_file_id": "1nhcnd_fV6xouD2iYENkxWT31jaIcaavH",
      "authorship_tag": "ABX9TyMi/rukqEh5zk0g/WHTmUrm",
      "include_colab_link": true
    },
    "kernelspec": {
      "name": "python3",
      "display_name": "Python 3"
    },
    "language_info": {
      "name": "python"
    }
  },
  "cells": [
    {
      "cell_type": "markdown",
      "metadata": {
        "id": "view-in-github",
        "colab_type": "text"
      },
      "source": [
        "<a href=\"https://colab.research.google.com/github/LEROYNORONHA/RetailAnalysis/blob/main/Datasets.ipynb\" target=\"_parent\"><img src=\"https://colab.research.google.com/assets/colab-badge.svg\" alt=\"Open In Colab\"/></a>"
      ]
    },
    {
      "cell_type": "code",
      "execution_count": 49,
      "metadata": {
        "id": "HbRBLocZ1Y_G"
      },
      "outputs": [],
      "source": [
        "import os\n",
        "from google.colab import drive\n",
        "import requests\n",
        "import csv\n",
        "import random\n",
        "from datetime import datetime, timedelta\n",
        "import pandas as pd"
      ]
    },
    {
      "cell_type": "code",
      "source": [
        "# Check if drive is already mounted\n",
        "if not os.path.ismount('/content/drive'):\n",
        "    drive.mount('/content/drive')"
      ],
      "metadata": {
        "id": "xIBEht_uFFl6"
      },
      "execution_count": null,
      "outputs": []
    },
    {
      "cell_type": "code",
      "source": [
        "df = pd.read_csv('amazon_products.csv', low_memory=False)"
      ],
      "metadata": {
        "id": "vq_cv-GE-4Zp"
      },
      "execution_count": 7,
      "outputs": []
    },
    {
      "cell_type": "code",
      "source": [
        "df.drop(columns=['listPrice', 'isBestSeller', 'imgUrl', 'productURL', 'boughtInLastMonth'], inplace=True)\n",
        "\n",
        "df.rename(columns={\n",
        "    'asin': 'Product_ID',\n",
        "    'title': 'Product_Desc',\n",
        "    'stars': 'Product_Rating',\n",
        "    'reviews': 'Product_Reviews',\n",
        "    'price': 'Product_Price',\n",
        "    'category_id': 'Category_ID'\n",
        "}, inplace=True)"
      ],
      "metadata": {
        "id": "GX7PEnVg_Bag"
      },
      "execution_count": null,
      "outputs": []
    },
    {
      "cell_type": "code",
      "source": [
        "df = df[df['Product_Price'] != 0]"
      ],
      "metadata": {
        "id": "UfKL_dZXCBPn"
      },
      "execution_count": null,
      "outputs": []
    },
    {
      "cell_type": "code",
      "source": [
        "df.to_csv('products.csv', index=False)"
      ],
      "metadata": {
        "id": "KMEMgoqfCqd6"
      },
      "execution_count": null,
      "outputs": []
    },
    {
      "cell_type": "code",
      "source": [
        "df = pd.read_csv('amazon_categories.csv', low_memory=False)"
      ],
      "metadata": {
        "id": "nzn_GzLp0edX"
      },
      "execution_count": null,
      "outputs": []
    },
    {
      "cell_type": "code",
      "source": [
        "df.rename(columns={\n",
        "    'id': 'Category_ID',\n",
        "    'category_name': 'Category_Desc'\n",
        "}, inplace=True)"
      ],
      "metadata": {
        "id": "ZnakGqwzz0BP"
      },
      "execution_count": null,
      "outputs": []
    },
    {
      "cell_type": "code",
      "source": [
        "df.to_csv('categories.csv', index=False)"
      ],
      "metadata": {
        "id": "6qlauZpcz0BP"
      },
      "execution_count": null,
      "outputs": []
    },
    {
      "cell_type": "code",
      "source": [
        "# Fake domain lists\n",
        "fake_domains = [\n",
        "    'gmail.com', 'yahoo.com', 'hotmail.com', 'aol.com', 'protonmail.com',\n",
        "    'mail.com', 'icloud.com', 'outlook.com', 'live.com', 'zoho.com',\n",
        "    'gmx.com', 'fastmail.com', 'tutanota.com', 'yandex.com', 'hushmail.com',\n",
        "    'inbox.com', 'email.com', 'startmail.com', 'mailfence.com', 'runbox.com',\n",
        "    'mail.ru', 'web.de', 'laposte.net', 'bigpond.com', 'netzero.net',\n",
        "    'rediffmail.com', 'rocketmail.com', 'msn.com', 'me.com', 'usa.com',\n",
        "    'optusnet.com.au', 'btinternet.com', 'shaw.ca', 'verizon.net', 'trashmail.com',\n",
        "    'tempmail.com', '10minutemail.com', 'tiscali.co.uk', 'orange.fr', 'sympatico.ca',\n",
        "    'juno.com', 'bellsouth.net', 'freemail.hu', 'netcourrier.com', 'telus.net',\n",
        "    'uk2.net', 'cox.net', 'earthlink.net', 'safe-mail.net', 'mail2world.com'\n",
        "]\n",
        "\n",
        "companies = [\n",
        "    'techcorp', 'globex', 'dynalabs', 'futurebiz', 'infinisoft',\n",
        "    'skyforge', 'quantix', 'zenbyte', 'nexora', 'coretech',\n",
        "    'infranix', 'codevio', 'bytecraft', 'datapulse', 'metadash',\n",
        "    'infocrest', 'xentrix', 'verivue', 'tekspire', 'cyberflux',\n",
        "    'novalink', 'bluepixel', 'graygate', 'bitbridge', 'hypercore',\n",
        "    'synpulse', 'netspire', 'mindwave', 'aetherium', 'lumidyn',\n",
        "    'zenova', 'orbitex', 'sparkline', 'avionyx', 'axonify',\n",
        "    'dexatek', 'uplinx', 'corevise', 'brightleaf', 'intellisys',\n",
        "    'miraplex', 'infogenix', 'cortexon', 'cybernova', 'stackbright',\n",
        "    'pathwave', 'aegistron', 'voxelworks', 'intellivue', 'alphaqubit'\n",
        "]\n",
        "\n",
        "country_tlds = [\n",
        "    'com', 'co.uk', 'com.au', 'ca', 'co.in', 'co.nz', 'de', 'fr', 'it', 'es',\n",
        "    'nl', 'se', 'no', 'fi', 'pl', 'be', 'ch', 'at', 'pt', 'ie',\n",
        "    'cz', 'sk', 'ru', 'ua', 'ro', 'bg', 'gr', 'dk', 'hu', 'lt',\n",
        "    'lv', 'ee', 'tr', 'hk', 'sg', 'my', 'ph', 'th', 'vn', 'id',\n",
        "    'kr', 'jp', 'cn', 'za', 'ng', 'br', 'ar', 'mx', 'cl', 'pe'\n",
        "]\n",
        "\n",
        "# Email domain customizer\n",
        "def custom_domain(original_email, mode='mixed'):\n",
        "    username = original_email.split('@')[0]\n",
        "    if mode == 'free':\n",
        "        domain = random.choice(fake_domains)\n",
        "    elif mode == 'company':\n",
        "        domain = f\"{random.choice(companies)}.com\"\n",
        "    elif mode == 'country':\n",
        "        domain = f\"{random.choice(companies)}.{random.choice(country_tlds)}\"\n",
        "    else:\n",
        "        domain_type = random.choice(['free', 'company', 'country'])\n",
        "        return custom_domain(original_email, mode=domain_type)\n",
        "    return f\"{username}@{domain}\"\n",
        "\n",
        "# Fetch & create fake customers\n",
        "def get_customers(num_customers=10):\n",
        "    url = f'https://randomuser.me/api/?results={num_customers}&nat=us'\n",
        "    response = requests.get(url)\n",
        "    data = response.json()['results']\n",
        "    customers = []\n",
        "    count = 1\n",
        "    for person in data:\n",
        "        first_name = person['name']['first']\n",
        "        last_name = person['name']['last']\n",
        "        dob = datetime.strptime(person['dob']['date'], '%Y-%m-%dT%H:%M:%S.%fZ').strftime('%m/%d/%Y')\n",
        "        original_email = person['email']\n",
        "        email = custom_domain(original_email, mode='mixed')\n",
        "        gender = person['gender'].capitalize()\n",
        "        address = f\"{person['location']['street']['number']} {person['location']['street']['name']}\"\n",
        "        city = person['location']['city']\n",
        "        state = person['location']['state']\n",
        "        postcode = person['location']['postcode']\n",
        "        customer_type = random.choice(['Regular', 'Premium'])\n",
        "\n",
        "        customers.append([\n",
        "            first_name, last_name, gender, address,\n",
        "            city, state, postcode, email, customer_type, dob\n",
        "        ])\n",
        "        count = count + 1\n",
        "    return customers\n",
        "\n",
        "# Generate 98,765 customer rows (5000 x 19 + 3765)\n",
        "all_customers = []\n",
        "for _ in range(19):\n",
        "    all_customers.extend(get_customers(5000))\n",
        "all_customers.extend(get_customers(3765))"
      ],
      "metadata": {
        "id": "v0PfdXbU9gx8"
      },
      "execution_count": null,
      "outputs": []
    },
    {
      "cell_type": "code",
      "source": [
        "# Youngest Customer\n",
        "pd.to_datetime(df['Birthday (mm/dd/yyyy)'], format='%m/%d/%Y').max()"
      ],
      "metadata": {
        "colab": {
          "base_uri": "https://localhost:8080/"
        },
        "id": "-twmKZQzJpnU",
        "outputId": "663798af-655d-4fbc-e9b9-32d3960c8e64"
      },
      "execution_count": 48,
      "outputs": [
        {
          "output_type": "execute_result",
          "data": {
            "text/plain": [
              "Timestamp('2001-05-28 00:00:00')"
            ]
          },
          "metadata": {},
          "execution_count": 48
        }
      ]
    },
    {
      "cell_type": "code",
      "source": [
        "# Oldest Customer\n",
        "pd.to_datetime(df['Birthday (mm/dd/yyyy)'], format='%m/%d/%Y').min()"
      ],
      "metadata": {
        "colab": {
          "base_uri": "https://localhost:8080/"
        },
        "id": "fJnvm6gBNDI4",
        "outputId": "05e1499d-4b00-47e1-dfd1-4c226471e5af"
      },
      "execution_count": 47,
      "outputs": [
        {
          "output_type": "execute_result",
          "data": {
            "text/plain": [
              "Timestamp('1944-08-25 00:00:00')"
            ]
          },
          "metadata": {},
          "execution_count": 47
        }
      ]
    },
    {
      "cell_type": "code",
      "source": [
        "# Define the start and end dates\n",
        "start_date = datetime.strptime('01/01/2012', '%m/%d/%Y')\n",
        "end_date = datetime.strptime('12/31/2022', '%m/%d/%Y')\n",
        "\n",
        "# Function to generate a random date in 2012\n",
        "def random_date(start, end):\n",
        "    delta = end - start\n",
        "    random_days = random.randint(0, delta.days)\n",
        "    return (start + timedelta(days=random_days)).strftime('%m/%d/%Y')\n",
        "\n",
        "# Append a random registration date to each customer\n",
        "for customer in all_customers:\n",
        "    reg_date = random_date(start_date, end_date)\n",
        "    customer.append(reg_date)"
      ],
      "metadata": {
        "id": "RNI4smG7NhhB"
      },
      "execution_count": 63,
      "outputs": []
    },
    {
      "cell_type": "code",
      "source": [
        "columns = [\n",
        "    'First_Name', 'Last_Name', 'DOB', 'Email', 'Gender', 'Address',\n",
        "    'City', 'State', 'Postcode', 'Customer_Type', 'Registration_Date'\n",
        "]\n",
        "# Convert your list of lists into a DataFrame\n",
        "df = pd.DataFrame(all_customers, columns=columns)\n",
        "\n",
        "# Remove duplicates based on the Email column\n",
        "df.drop_duplicates(subset='Email', keep='first', inplace=True)\n",
        "\n",
        "# Save to CSV\n",
        "df.to_csv('customers.csv', index=False)"
      ],
      "metadata": {
        "id": "BdQTfsr3HeKy"
      },
      "execution_count": 64,
      "outputs": []
    }
  ]
}
{
  "nbformat": 4,
  "nbformat_minor": 0,
  "metadata": {
    "colab": {
      "provenance": [],
      "mount_file_id": "1nhcnd_fV6xouD2iYENkxWT31jaIcaavH",
      "authorship_tag": "ABX9TyPg15w7nNSmcVxti6R/riaE",
      "include_colab_link": true
    },
    "kernelspec": {
      "name": "python3",
      "display_name": "Python 3"
    },
    "language_info": {
      "name": "python"
    }
  },
  "cells": [
    {
      "cell_type": "markdown",
      "metadata": {
        "id": "view-in-github",
        "colab_type": "text"
      },
      "source": [
        "<a href=\"https://colab.research.google.com/github/LEROYNORONHA/RetailAnalysis/blob/main/Datasets/Datasets.ipynb\" target=\"_parent\"><img src=\"https://colab.research.google.com/assets/colab-badge.svg\" alt=\"Open In Colab\"/></a>"
      ]
    },
    {
      "cell_type": "code",
      "execution_count": 2,
      "metadata": {
        "id": "HbRBLocZ1Y_G"
      },
      "outputs": [],
      "source": [
        "import os\n",
        "from google.colab import drive\n",
        "import requests\n",
        "import csv\n",
        "import random\n",
        "from datetime import datetime, timedelta\n",
        "import pandas as pd\n",
        "import string"
      ]
    },
    {
      "cell_type": "code",
      "source": [
        "# Check if drive is already mounted\n",
        "if not os.path.ismount('/content/drive'):\n",
        "    drive.mount('/content/drive')"
      ],
      "metadata": {
        "id": "xIBEht_uFFl6"
      },
      "execution_count": 4,
      "outputs": []
    },
    {
      "cell_type": "code",
      "source": [
        "df = pd.read_csv('amazon_products.csv', low_memory=False)"
      ],
      "metadata": {
        "id": "vq_cv-GE-4Zp"
      },
      "execution_count": null,
      "outputs": []
    },
    {
      "cell_type": "code",
      "source": [
        "df.drop(columns=['listPrice', 'isBestSeller', 'imgUrl', 'productURL', 'boughtInLastMonth'], inplace=True)\n",
        "\n",
        "df.rename(columns={\n",
        "    'asin': 'Product_ID',\n",
        "    'title': 'Product_Desc',\n",
        "    'stars': 'Product_Rating',\n",
        "    'reviews': 'Product_Reviews',\n",
        "    'price': 'Product_Price',\n",
        "    'category_id': 'Category_ID'\n",
        "}, inplace=True)"
      ],
      "metadata": {
        "id": "GX7PEnVg_Bag"
      },
      "execution_count": null,
      "outputs": []
    },
    {
      "cell_type": "code",
      "source": [
        "df = df[df['Product_Price'] != 0]"
      ],
      "metadata": {
        "id": "UfKL_dZXCBPn"
      },
      "execution_count": null,
      "outputs": []
    },
    {
      "cell_type": "code",
      "source": [
        "df.to_csv('products.csv', index=False)"
      ],
      "metadata": {
        "id": "KMEMgoqfCqd6"
      },
      "execution_count": null,
      "outputs": []
    },
    {
      "cell_type": "code",
      "source": [
        "df = pd.read_csv('amazon_categories.csv', low_memory=False)"
      ],
      "metadata": {
        "id": "nzn_GzLp0edX"
      },
      "execution_count": null,
      "outputs": []
    },
    {
      "cell_type": "code",
      "source": [
        "df.rename(columns={\n",
        "    'id': 'Category_ID',\n",
        "    'category_name': 'Category_Desc'\n",
        "}, inplace=True)"
      ],
      "metadata": {
        "id": "ZnakGqwzz0BP"
      },
      "execution_count": null,
      "outputs": []
    },
    {
      "cell_type": "code",
      "source": [
        "df.to_csv('categories.csv', index=False)"
      ],
      "metadata": {
        "id": "6qlauZpcz0BP"
      },
      "execution_count": null,
      "outputs": []
    },
    {
      "cell_type": "code",
      "source": [
        "# Fake domain lists\n",
        "fake_domains = [\n",
        "    'gmail.com', 'yahoo.com', 'hotmail.com', 'aol.com', 'protonmail.com',\n",
        "    'mail.com', 'icloud.com', 'outlook.com', 'live.com', 'zoho.com',\n",
        "    'gmx.com', 'fastmail.com', 'tutanota.com', 'yandex.com', 'hushmail.com',\n",
        "    'inbox.com', 'email.com', 'startmail.com', 'mailfence.com', 'runbox.com',\n",
        "    'mail.ru', 'web.de', 'laposte.net', 'bigpond.com', 'netzero.net',\n",
        "    'rediffmail.com', 'rocketmail.com', 'msn.com', 'me.com', 'usa.com',\n",
        "    'optusnet.com.au', 'btinternet.com', 'shaw.ca', 'verizon.net', 'trashmail.com',\n",
        "    'tempmail.com', '10minutemail.com', 'tiscali.co.uk', 'orange.fr', 'sympatico.ca',\n",
        "    'juno.com', 'bellsouth.net', 'freemail.hu', 'netcourrier.com', 'telus.net',\n",
        "    'uk2.net', 'cox.net', 'earthlink.net', 'safe-mail.net', 'mail2world.com'\n",
        "]\n",
        "\n",
        "companies = [\n",
        "    'techcorp', 'globex', 'dynalabs', 'futurebiz', 'infinisoft',\n",
        "    'skyforge', 'quantix', 'zenbyte', 'nexora', 'coretech',\n",
        "    'infranix', 'codevio', 'bytecraft', 'datapulse', 'metadash',\n",
        "    'infocrest', 'xentrix', 'verivue', 'tekspire', 'cyberflux',\n",
        "    'novalink', 'bluepixel', 'graygate', 'bitbridge', 'hypercore',\n",
        "    'synpulse', 'netspire', 'mindwave', 'aetherium', 'lumidyn',\n",
        "    'zenova', 'orbitex', 'sparkline', 'avionyx', 'axonify',\n",
        "    'dexatek', 'uplinx', 'corevise', 'brightleaf', 'intellisys',\n",
        "    'miraplex', 'infogenix', 'cortexon', 'cybernova', 'stackbright',\n",
        "    'pathwave', 'aegistron', 'voxelworks', 'intellivue', 'alphaqubit'\n",
        "]\n",
        "\n",
        "country_tlds = [\n",
        "    'com', 'co.uk', 'com.au', 'ca', 'co.in', 'co.nz', 'de', 'fr', 'it', 'es',\n",
        "    'nl', 'se', 'no', 'fi', 'pl', 'be', 'ch', 'at', 'pt', 'ie',\n",
        "    'cz', 'sk', 'ru', 'ua', 'ro', 'bg', 'gr', 'dk', 'hu', 'lt',\n",
        "    'lv', 'ee', 'tr', 'hk', 'sg', 'my', 'ph', 'th', 'vn', 'id',\n",
        "    'kr', 'jp', 'cn', 'za', 'ng', 'br', 'ar', 'mx', 'cl', 'pe'\n",
        "]\n",
        "\n",
        "# Email domain customizer\n",
        "def custom_domain(original_email, mode='mixed'):\n",
        "    username = original_email.split('@')[0]\n",
        "    if mode == 'free':\n",
        "        domain = random.choice(fake_domains)\n",
        "    elif mode == 'company':\n",
        "        domain = f\"{random.choice(companies)}.com\"\n",
        "    elif mode == 'country':\n",
        "        domain = f\"{random.choice(companies)}.{random.choice(country_tlds)}\"\n",
        "    else:\n",
        "        domain_type = random.choice(['free', 'company', 'country'])\n",
        "        return custom_domain(original_email, mode=domain_type)\n",
        "    return f\"{username}@{domain}\"\n",
        "\n",
        "# Fetch & create fake customers\n",
        "def get_customers(num_customers=10):\n",
        "    url = f'https://randomuser.me/api/?results={num_customers}&nat=us'\n",
        "    response = requests.get(url)\n",
        "    print(response)\n",
        "    data = response.json()['results']\n",
        "    customers = []\n",
        "    for person in data:\n",
        "        first_name = person['name']['first']\n",
        "        last_name = person['name']['last']\n",
        "        dob = datetime.strptime(person['dob']['date'], '%Y-%m-%dT%H:%M:%S.%fZ').strftime('%m/%d/%Y')\n",
        "        original_email = person['email']\n",
        "        email = custom_domain(original_email, mode='mixed')\n",
        "        gender = person['gender'].capitalize()\n",
        "        state = person['location']['state']\n",
        "        customer_type = random.choice(['Regular', 'Premium'])\n",
        "\n",
        "        customers.append([\n",
        "            first_name, last_name, dob, email, gender, state, customer_type\n",
        "        ])\n",
        "    return customers\n",
        "\n",
        "# Generate 98,765 customer rows (5000 x 19 + 3765)\n",
        "all_customers = []\n",
        "for _ in range(19):\n",
        "    all_customers.extend(get_customers(5000))\n",
        "all_customers.extend(get_customers(3765))"
      ],
      "metadata": {
        "id": "v0PfdXbU9gx8"
      },
      "execution_count": null,
      "outputs": []
    },
    {
      "cell_type": "code",
      "source": [
        "# Youngest Customer\n",
        "pd.to_datetime(df['Birthday (mm/dd/yyyy)'], format='%m/%d/%Y').max()"
      ],
      "metadata": {
        "id": "-twmKZQzJpnU"
      },
      "execution_count": null,
      "outputs": []
    },
    {
      "cell_type": "code",
      "source": [
        "# Oldest Customer\n",
        "pd.to_datetime(df['Birthday (mm/dd/yyyy)'], format='%m/%d/%Y').min()"
      ],
      "metadata": {
        "id": "fJnvm6gBNDI4"
      },
      "execution_count": null,
      "outputs": []
    },
    {
      "cell_type": "code",
      "source": [
        "# Define the start and end dates\n",
        "start_date = datetime.strptime('01/01/2012', '%m/%d/%Y')\n",
        "end_date = datetime.strptime('12/31/2022', '%m/%d/%Y')\n",
        "\n",
        "# Function to generate a random date in 2012\n",
        "def random_date(start, end):\n",
        "    delta = end - start\n",
        "    random_days = random.randint(0, delta.days)\n",
        "    return (start + timedelta(days=random_days)).strftime('%m/%d/%Y')\n",
        "\n",
        "# Append a random registration date to each customer\n",
        "for customer in all_customers:\n",
        "    reg_date = random_date(start_date, end_date)\n",
        "    customer.append(reg_date)"
      ],
      "metadata": {
        "id": "RNI4smG7NhhB"
      },
      "execution_count": null,
      "outputs": []
    },
    {
      "cell_type": "code",
      "source": [
        "for i, customer in enumerate(all_customers, start=1):\n",
        "    customer_id = f\"{i:010d}\"  # Formats number as 10-digit string with leading zeros\n",
        "    customer.insert(0, customer_id)"
      ],
      "metadata": {
        "id": "yb5uCfBdXIe_"
      },
      "execution_count": null,
      "outputs": []
    },
    {
      "cell_type": "code",
      "source": [
        "# all_customers = []\n",
        "\n",
        "# with open('/content/drive/MyDrive/Colab Notebooks/customers.csv', mode='r', encoding='utf-8') as file:\n",
        "#     reader = csv.reader(file)\n",
        "#     next(reader)\n",
        "#     for row in reader:\n",
        "#         all_customers.append(row)"
      ],
      "metadata": {
        "id": "DXDt2U9OZb_0"
      },
      "execution_count": 27,
      "outputs": []
    },
    {
      "cell_type": "code",
      "source": [
        "# Load State to State_ID mapping from states.csv\n",
        "state_id_map = {}\n",
        "with open('states.csv', mode='r', encoding='utf-8-sig') as file:\n",
        "    reader = csv.DictReader(file)\n",
        "    for row in reader:\n",
        "        state_id_map[row['State_Desc']] = row['State_ID']\n",
        "\n",
        "for customer in all_customers:\n",
        "    state_name = customer[6]\n",
        "    state_id = state_id_map.get(state_name, '')  # Default to empty if not found\n",
        "    customer.insert(7, state_id)  # Insert after the State"
      ],
      "metadata": {
        "id": "L0wuew-7Yed5"
      },
      "execution_count": 28,
      "outputs": []
    },
    {
      "cell_type": "code",
      "source": [
        "city_map = {}\n",
        "\n",
        "with open('cities.csv', mode='r', encoding='utf-8-sig') as file:\n",
        "    reader = csv.DictReader(file)\n",
        "    for row in reader:\n",
        "        state_id = row['State_ID']\n",
        "        city_id = row['City_ID']\n",
        "        if state_id not in city_map:\n",
        "            city_map[state_id] = []\n",
        "        city_map[state_id].append(city_id)\n",
        "\n",
        "updated_customers = []\n",
        "\n",
        "for customer in all_customers:\n",
        "    state_id = customer[7]\n",
        "    del customer[6]\n",
        "\n",
        "    possible_cities = city_map.get(state_id, [])\n",
        "    if possible_cities:\n",
        "        city_id = random.choice(possible_cities)\n",
        "    else:\n",
        "        city_id = None\n",
        "\n",
        "    customer.insert(6, city_id)\n",
        "\n",
        "    updated_customers.append(customer)\n",
        "\n",
        "all_customers = updated_customers"
      ],
      "metadata": {
        "id": "5-juDVHLYKL5"
      },
      "execution_count": 30,
      "outputs": []
    },
    {
      "cell_type": "code",
      "source": [
        "columns = [\n",
        "    'Customer_ID', 'First_Name', 'Last_Name', 'DOB', 'Email', 'Gender',\n",
        "    'City_ID', 'State_ID', 'Customer_Type', 'Registration_Date'\n",
        "]\n",
        "# Convert your list of lists into a DataFrame\n",
        "df = pd.DataFrame(all_customers, columns=columns)\n",
        "\n",
        "# Remove duplicates based on the Email column\n",
        "df.drop_duplicates(subset='Email', keep='first', inplace=True)\n",
        "\n",
        "# Save to CSV\n",
        "df.to_csv('customers.csv', index=False)"
      ],
      "metadata": {
        "id": "BdQTfsr3HeKy"
      },
      "execution_count": 32,
      "outputs": []
    },
    {
      "cell_type": "code",
      "source": [
        "# Helper function: Generate random 20-character Transaction_ID\n",
        "def generate_transaction_id(length=20):\n",
        "    characters = string.ascii_uppercase + string.digits\n",
        "    return ''.join(random.choices(characters, k=length))\n",
        "\n",
        "# Helper function: Generate random datetime between two dates\n",
        "def random_datetime(start, end):\n",
        "    delta = end - start\n",
        "    random_seconds = random.randint(0, int(delta.total_seconds()))\n",
        "    return start + timedelta(seconds=random_seconds)\n",
        "\n",
        "# Constants\n",
        "transaction_types = ['Cash', 'Credit Card', 'Debit Card', 'PayPal']\n",
        "num_transactions = 543210\n",
        "\n",
        "start_date = datetime(2023, 1, 1, 0, 0, 0)\n",
        "end_date = datetime(2023, 12, 31, 23, 59, 59)\n",
        "\n",
        "# Track generated Transaction_IDs\n",
        "generated_ids = set()\n",
        "\n",
        "transactions = []\n",
        "\n",
        "for _ in range(num_transactions):\n",
        "    while True:\n",
        "        transaction_id = generate_transaction_id()\n",
        "        if transaction_id not in generated_ids:\n",
        "            generated_ids.add(transaction_id)\n",
        "            break\n",
        "\n",
        "    transaction_attempt_no = 1\n",
        "    transaction_datetime = random_datetime(start_date, end_date)\n",
        "    transaction_type = random.choice(transaction_types)\n",
        "    if transaction_type == 'Cash':\n",
        "        transaction_status = 'Success'\n",
        "    else:\n",
        "        transaction_status = random.choices(['Success', 'Failure'], weights=[75, 25], k=1)[0]\n",
        "\n",
        "    transactions.append([\n",
        "        transaction_id,\n",
        "        transaction_attempt_no,\n",
        "        transaction_datetime.strftime('%m/%d/%Y %H:%M:%S'),\n",
        "        transaction_type,\n",
        "        transaction_status,\n",
        "        '',  # Shipping_Method\n",
        "        '',  # Transaction_Amount\n",
        "        '',  # Shipping_Cost\n",
        "        '',  # Discount_Percentage\n",
        "        ''   # Final_Amount\n",
        "    ])\n",
        "\n",
        "    # Handle Failure: Maybe Retry\n",
        "    current_datetime = transaction_datetime\n",
        "    while transaction_status == 'Failure' and random.choice([True, False]):\n",
        "        transaction_attempt_no += 1\n",
        "\n",
        "        retry_start = current_datetime\n",
        "        retry_end = current_datetime + timedelta(hours=1)\n",
        "        if retry_end > end_date:\n",
        "            break\n",
        "        transaction_datetime = random_datetime(retry_start, retry_end)\n",
        "\n",
        "        transaction_type = random.choice(transaction_types)\n",
        "        if transaction_type == 'Cash':\n",
        "            transaction_status = 'Success'\n",
        "        else:\n",
        "            transaction_status = random.choices(['Success', 'Failure'], weights=[75, 25], k=1)[0]\n",
        "\n",
        "        transactions.append([\n",
        "            transaction_id,\n",
        "            transaction_attempt_no,\n",
        "            transaction_datetime.strftime('%m/%d/%Y %H:%M:%S'),\n",
        "            transaction_type,\n",
        "            transaction_status,\n",
        "            '',  # Shipping_Method\n",
        "            '',  # Transaction_Amount\n",
        "            '',  # Shipping_Cost\n",
        "            '',  # Discount_Percentage\n",
        "            ''   # Final_Amount\n",
        "        ])\n",
        "\n",
        "# Write to transactions.csv\n",
        "with open('transactions.csv', mode='w', newline='', encoding='utf-8') as file:\n",
        "    writer = csv.writer(file)\n",
        "    writer.writerow([\n",
        "        'Transaction_ID', 'Transaction_Attempt_No', 'Transaction_Datetime', 'Transaction_Type', 'Transaction_Status',\n",
        "        'Shipping_Method', 'Transaction_Amount', 'Shipping_Cost', 'Discount_Percentage', 'Final_Amount'\n",
        "    ])\n",
        "    writer.writerows(transactions)"
      ],
      "metadata": {
        "id": "TW5j_zM5DmnM"
      },
      "execution_count": 7,
      "outputs": []
    },
    {
      "cell_type": "code",
      "source": [
        "print(len(generated_ids))"
      ],
      "metadata": {
        "colab": {
          "base_uri": "https://localhost:8080/"
        },
        "id": "cWejmb1w2FmJ",
        "outputId": "ee62fa02-9fae-4674-d57d-50d5aad13bc2"
      },
      "execution_count": 8,
      "outputs": [
        {
          "output_type": "stream",
          "name": "stdout",
          "text": [
            "543210\n"
          ]
        }
      ]
    },
    {
      "cell_type": "code",
      "source": [
        "# Read Customer IDs\n",
        "with open('customers.csv', mode='r', encoding='utf-8') as f:\n",
        "    customers = list(csv.DictReader(f))\n",
        "    customer_ids = [cust['Customer_ID'] for cust in customers]\n",
        "\n",
        "# Read Product IDs and Prices\n",
        "with open('products.csv', mode='r', encoding='utf-8') as f:\n",
        "    products = list(csv.DictReader(f))\n",
        "    product_price_map = {prod['Product_ID']: float(prod['Product_Price']) for prod in products}\n",
        "    product_ids = list(product_price_map.keys())\n",
        "\n",
        "# Read Transaction IDs\n",
        "with open('transactions.csv', mode='r', encoding='utf-8') as f:\n",
        "    transactions = list(csv.DictReader(f))\n",
        "    transaction_ids = {txn['Transaction_ID'] for txn in transactions}\n",
        "\n",
        "# Create Sales Data\n",
        "sales_data = []\n",
        "sale_counter = 1\n",
        "\n",
        "for txn_id in transaction_ids:\n",
        "    # Randomly pick a customer for this transaction\n",
        "    customer_id = random.choice(customer_ids)\n",
        "\n",
        "    # Randomly decide how many products the customer bought in this transaction (at least 1)\n",
        "    num_products = random.randint(1, 5)\n",
        "    chosen_products = random.sample(product_ids, min(num_products, len(product_ids)))\n",
        "\n",
        "    for product_id in chosen_products:\n",
        "        quantity = random.randint(1, 25)\n",
        "        price_per_unit = product_price_map[product_id]\n",
        "        total_cost = round(quantity * price_per_unit, 2)\n",
        "\n",
        "        sale_id = str(sale_counter).zfill(10)\n",
        "        sales_data.append({\n",
        "            'Sale_ID': sale_id,\n",
        "            'Customer_ID': customer_id,\n",
        "            'Product_ID': product_id,\n",
        "            'Product_Price': price_per_unit,\n",
        "            'Quantity': quantity,\n",
        "            'Cost': total_cost,\n",
        "            'Transaction_ID': txn_id\n",
        "        })\n",
        "\n",
        "        sale_counter += 1\n",
        "\n",
        "# Write to sales.csv\n",
        "with open('sales.csv', mode='w', newline='', encoding='utf-8') as f:\n",
        "    fieldnames = ['Sale_ID', 'Customer_ID', 'Product_ID', 'Product_Price',\n",
        "                  'Quantity', 'Cost', 'Transaction_ID',]\n",
        "    writer = csv.DictWriter(f, fieldnames=fieldnames)\n",
        "    writer.writeheader()\n",
        "    writer.writerows(sales_data)"
      ],
      "metadata": {
        "id": "jp_DQobpoo05"
      },
      "execution_count": null,
      "outputs": []
    },
    {
      "cell_type": "code",
      "source": [
        "# Load sales data (to calculate total cost per transaction)\n",
        "sales_df = pd.read_csv('sales.csv')\n",
        "\n",
        "# Calculate total cost per transaction (sum of costs for each Transaction_ID)\n",
        "transaction_costs = sales_df.groupby('Transaction_ID')['Cost'].sum().to_dict()\n",
        "\n",
        "# Load transactions data\n",
        "transactions_df = pd.read_csv('transactions.csv')\n",
        "\n",
        "# Load customer data to get registration date and customer type\n",
        "customers_df = pd.read_csv('customers.csv')\n",
        "\n",
        "# Create a dictionary to map Customer_ID to their registration date and customer type\n",
        "customer_info = {row['Customer_ID']: {'Registration_Date': row['Registration_Date'], 'Customer_Type': row['Customer_Type']}\n",
        "                 for _, row in customers_df.iterrows()}\n",
        "\n",
        "# Function to calculate Discount_Percentage based on conditions\n",
        "def calculate_discount_percentage(customer_type, registration_date):\n",
        "    registration_date = datetime.strptime(registration_date, '%m/%d/%Y')\n",
        "    today = datetime.today()\n",
        "    delta = today - registration_date\n",
        "    years = delta.days // 365  # Approximate number of years\n",
        "\n",
        "    if customer_type == 'Regular':\n",
        "        if years < 1:\n",
        "            return 0.0\n",
        "        elif 1 <= years < 2:\n",
        "            return 0.02\n",
        "        elif 2 <= years < 5:\n",
        "            return 0.04\n",
        "        else:\n",
        "            return 0.08\n",
        "    elif customer_type == 'Premium':\n",
        "        if years < 1:\n",
        "            return 0.02\n",
        "        elif 1 <= years < 2:\n",
        "            return 0.05\n",
        "        elif 2 <= years < 5:\n",
        "            return 0.08\n",
        "        else:\n",
        "            return 0.12\n",
        "\n",
        "# Create a dictionary to map Transaction_ID to customer_id (from sales.csv)\n",
        "transaction_customer_map = sales_df.groupby('Transaction_ID')['Customer_ID'].first().to_dict()\n",
        "\n",
        "# Add Transaction_Amount, Discount_Percentage, Shipping_Method and Shipping_Cost to the transactions dataframe\n",
        "transaction_amounts = []\n",
        "discount_percentages = []\n",
        "shipping_methods = []\n",
        "shipping_costs = []\n",
        "\n",
        "for _, row in transactions_df.iterrows():\n",
        "    transaction_id = row['Transaction_ID']\n",
        "\n",
        "    # Add Transaction_Amount based on the sum of costs from sales data\n",
        "    transaction_amount = round(transaction_costs.get(transaction_id, 0), 2)\n",
        "    transaction_amounts.append(transaction_amount)\n",
        "\n",
        "    # Get customer_id associated with this transaction from sales data\n",
        "    customer_id = transaction_customer_map.get(transaction_id, None)\n",
        "\n",
        "    # If the customer_id exists, get their registration date and customer type\n",
        "    if customer_id:\n",
        "        customer_info_row = customer_info.get(customer_id, {})\n",
        "        registration_date = customer_info_row.get('Registration_Date', '01/01/1900')\n",
        "        customer_type = customer_info_row.get('Customer_Type', 'Regular')\n",
        "\n",
        "        # Calculate Discount_Percentage based on registration date and customer type\n",
        "        discount_percentage = calculate_discount_percentage(customer_type, registration_date)\n",
        "        discount_percentages.append(discount_percentage)\n",
        "    else:\n",
        "        # Default values if customer_id is not found (handle the case)\n",
        "        transaction_amounts.append(0)\n",
        "        discount_percentages.append(0)\n",
        "    # --- Determine Shipping Method ---\n",
        "    if customer_type == 'Premium':\n",
        "        shipping_method = 'Express'\n",
        "    else:  # Regular\n",
        "        shipping_method = random.choice(['Standard', 'Express'])\n",
        "\n",
        "    # --- Calculate Shipping Cost ---\n",
        "    if shipping_method == 'Standard':\n",
        "        if transaction_amount > 1500:\n",
        "            shipping_cost = round(0.1 * transaction_amount, 2)\n",
        "        elif transaction_amount >= 1000:\n",
        "            shipping_cost = round(0.2 * transaction_amount, 2)\n",
        "        else:\n",
        "            shipping_cost = round(0.4 * transaction_amount, 2)\n",
        "\n",
        "    elif shipping_method == 'Express':\n",
        "        if customer_type == 'Regular':\n",
        "            if transaction_amount > 1500:\n",
        "                shipping_cost = round(0.2 * transaction_amount, 2)\n",
        "            elif transaction_amount >= 1000:\n",
        "                shipping_cost = round(0.4 * transaction_amount, 2)\n",
        "            else:\n",
        "                shipping_cost = round(0.65 * transaction_amount, 2)\n",
        "        elif customer_type == 'Premium':\n",
        "            if transaction_amount > 1500:\n",
        "                shipping_cost = round(0.1 * transaction_amount, 2)\n",
        "            elif transaction_amount >= 1000:\n",
        "                shipping_cost = round(0.2 * transaction_amount, 2)\n",
        "            else:\n",
        "                shipping_cost = round(0.4 * transaction_amount, 2)\n",
        "\n",
        "    shipping_methods.append(shipping_method)\n",
        "    shipping_costs.append(shipping_cost)\n",
        "\n",
        "\n",
        "\n",
        "# Add the new columns to the dataframe\n",
        "transactions_df['Transaction_Amount'] = transaction_amounts\n",
        "transactions_df['Discount_Percentage'] = discount_percentages\n",
        "transactions_df['Shipping_Method'] = shipping_methods\n",
        "transactions_df['Shipping_Cost'] = shipping_costs\n",
        "\n",
        "# Calculate Final_Amount for all transactions\n",
        "transactions_df['Final_Amount'] = transactions_df['Transaction_Amount'] * (1 - transactions_df['Discount_Percentage']) + transactions_df['Shipping_Cost']\n",
        "\n",
        "# Function to round to nearest 0.05\n",
        "def round_to_nearest_0_05(amount):\n",
        "    return round(round(amount * 20) / 20, 2)\n",
        "\n",
        "# Apply rounding rule\n",
        "transactions_df['Final_Amount'] = transactions_df.apply(\n",
        "    lambda row: round_to_nearest_0_05(row['Final_Amount']) if row['Transaction_Type'] == 'Cash' else round(row['Final_Amount'], 2),\n",
        "    axis=1\n",
        ")\n",
        "\n",
        "# Save the updated transactions dataframe back to the transactions.csv file\n",
        "transactions_df.to_csv('transactions.csv', index=False)"
      ],
      "metadata": {
        "id": "97wLAnU57zOK"
      },
      "execution_count": 15,
      "outputs": []
    }
  ]
}